{
 "cells": [
  {
   "cell_type": "markdown",
   "metadata": {},
   "source": [
    "# GPU accelerated data augmentation\n",
    "\n",
    "This code provides standard augmentation strategies on the GPU, as some of these can be intensive on the CPU. Our GPU translation is based on [PyTorch](https://pytorch.org/). The current version supports both 2D and 3D data augmentation. \n",
    "\n",
    "## Installation\n",
    "You can install the augmentation library through pip: \n",
    "<pre><code>pip install -r requirements.txt</code></pre>\n",
    "\n",
    "## Usage\n",
    "Import the required modules:"
   ]
  },
  {
   "cell_type": "code",
   "execution_count": 2,
   "metadata": {},
   "outputs": [],
   "source": [
    "import imageio\n",
    "import torch\n",
    "from augmentation.augmentation_2d import FlipX, FlipY, Rotate90, AddNoise, RandomDeformation"
   ]
  },
  {
   "cell_type": "code",
   "execution_count": null,
   "metadata": {},
   "outputs": [],
   "source": []
  }
 ],
 "metadata": {
  "kernelspec": {
   "display_name": "Python 3",
   "language": "python",
   "name": "python3"
  },
  "language_info": {
   "codemirror_mode": {
    "name": "ipython",
    "version": 3
   },
   "file_extension": ".py",
   "mimetype": "text/x-python",
   "name": "python",
   "nbconvert_exporter": "python",
   "pygments_lexer": "ipython3",
   "version": "3.6.9"
  }
 },
 "nbformat": 4,
 "nbformat_minor": 2
}
